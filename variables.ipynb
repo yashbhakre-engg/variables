{
  "nbformat": 4,
  "nbformat_minor": 0,
  "metadata": {
    "colab": {
      "provenance": []
    },
    "kernelspec": {
      "name": "python3",
      "display_name": "Python 3"
    },
    "language_info": {
      "name": "python"
    }
  },
  "cells": [
    {
      "cell_type": "markdown",
      "source": [
        "## journey of python programming"
      ],
      "metadata": {
        "id": "8HAH8VbsDzuD"
      }
    },
    {
      "cell_type": "markdown",
      "source": [
        "# Creating Variables and How to store Data in variable"
      ],
      "metadata": {
        "id": "kYz4tr8QQljf"
      }
    },
    {
      "cell_type": "code",
      "source": [
        "\n",
        "first = 'yash'\n",
        "Last = 'bhakre'\n",
        "school  = 'SBOA Public School'\n",
        "country = 'India'\n",
        "age = 20\n",
        "city = 'Aurangabad'\n",
        "year = 2024\n",
        "married = 'Non married'\n",
        "print(\"My name is \",first,\" \"+Last)\n",
        "print(\"My school name is \",school)\n",
        "print(\"My country is \",country)\n",
        "print(\"My age is \",age)\n",
        "print(\"My native place is \",city)\n",
        "print(\"This project is create at \",year)\n"
      ],
      "metadata": {
        "id": "qDrwn0vjD2mj",
        "colab": {
          "base_uri": "https://localhost:8080/"
        },
        "outputId": "1295db30-469b-42d0-c242-e363a1005d2f"
      },
      "execution_count": 2,
      "outputs": [
        {
          "output_type": "stream",
          "name": "stdout",
          "text": [
            "My name is  yash  bhakre\n",
            "My school name is  SBOA Public School\n",
            "My country is  India\n",
            "My age is  20\n",
            "My native place is  Aurangabad\n",
            "This project is create at  2024\n"
          ]
        }
      ]
    },
    {
      "cell_type": "code",
      "source": [
        "Aurangabad = 'True'\n",
        "print(\"Do you like apple. \",Aurangabad)"
      ],
      "metadata": {
        "id": "y6C8m1EHFNZk",
        "colab": {
          "base_uri": "https://localhost:8080/"
        },
        "outputId": "d8760e66-196b-4f9c-c673-744a0ca0ada1"
      },
      "execution_count": 3,
      "outputs": [
        {
          "output_type": "stream",
          "name": "stdout",
          "text": [
            "Do you like apple.  True\n"
          ]
        }
      ]
    }
  ]
}